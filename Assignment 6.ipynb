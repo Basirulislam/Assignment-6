{
 "cells": [
  {
   "cell_type": "markdown",
   "metadata": {},
   "source": [
    "# Assignment 6\n",
    "1. Use yeast dataset from UCI http://archive.ics.uci.edu/ml/machine-learning-databases/yeast/yeast.data\n",
    "2. Remove the first column and use the last column as the target\n",
    "3. Only leave CYT and VAC classes\n",
    "4. Replace [0.3, 0.5, 0.7] in feature 2 to null\n",
    "5. Replace [0.26, 0.36, 0.64] in feature 3 to null\n",
    "6. Split the data\n",
    "\n",
    "7. Impute the data (or not, it's your call)\n",
    "8. Build a outlier detection model to classify VAC from CYT, i.e. 0 from 1\n",
    "9. Build a classifer using sample augmentation techniques to flassify VAC from CYT, i.e. 0 from 1\n",
    "10. Try different methods and hyper paramters\n",
    "\n",
    "11. Report perfromance using F-1 score"
   ]
  },
  {
   "cell_type": "code",
   "execution_count": 1,
   "metadata": {},
   "outputs": [
    {
     "name": "stdout",
     "output_type": "stream",
     "text": [
      "Requirement already satisfied: imblearn in c:\\users\\alext\\appdata\\local\\programs\\python\\python39\\lib\\site-packages (0.0)\n",
      "Requirement already satisfied: imbalanced-learn in c:\\users\\alext\\appdata\\local\\programs\\python\\python39\\lib\\site-packages (from imblearn) (0.8.1)\n",
      "Requirement already satisfied: joblib>=0.11 in c:\\users\\alext\\appdata\\local\\programs\\python\\python39\\lib\\site-packages (from imbalanced-learn->imblearn) (1.0.1)\n",
      "Requirement already satisfied: scikit-learn>=0.24 in c:\\users\\alext\\appdata\\local\\programs\\python\\python39\\lib\\site-packages (from imbalanced-learn->imblearn) (1.0)\n",
      "Requirement already satisfied: scipy>=0.19.1 in c:\\users\\alext\\appdata\\local\\programs\\python\\python39\\lib\\site-packages (from imbalanced-learn->imblearn) (1.7.1)\n",
      "Requirement already satisfied: numpy>=1.13.3 in c:\\users\\alext\\appdata\\local\\programs\\python\\python39\\lib\\site-packages (from imbalanced-learn->imblearn) (1.17.3)\n",
      "Requirement already satisfied: threadpoolctl>=2.0.0 in c:\\users\\alext\\appdata\\local\\programs\\python\\python39\\lib\\site-packages (from scikit-learn>=0.24->imbalanced-learn->imblearn) (3.0.0)\n"
     ]
    }
   ],
   "source": [
    "! pip install imblearn --user"
   ]
  },
  {
   "cell_type": "code",
   "execution_count": 2,
   "metadata": {},
   "outputs": [],
   "source": [
    "import pandas as pd\n",
    "import numpy as np\n",
    "from sklearn.model_selection import train_test_split\n",
    "from time import time\n",
    "\n",
    "from sklearn.impute import SimpleImputer\n",
    "from sklearn.impute import KNNImputer\n",
    "from impyute.imputation.cs import mice\n",
    "from sklearn.experimental import enable_iterative_imputer\n",
    "from sklearn.impute import IterativeImputer\n",
    "\n",
    "from sklearn.cluster import DBSCAN\n",
    "from sklearn.ensemble import IsolationForest\n",
    "\n",
    "from sklearn.pipeline import Pipeline\n",
    "from sklearn.model_selection import GridSearchCV, RandomizedSearchCV\n",
    "\n",
    "from sklearn.linear_model import LogisticRegression\n",
    "from sklearn.linear_model import SGDClassifier\n",
    "\n",
    "from sklearn.ensemble import RandomForestClassifier\n",
    "from sklearn.svm import SVC\n",
    "from sklearn.utils.fixes import loguniform\n",
    "from sklearn.model_selection import StratifiedKFold\n",
    "from imblearn.over_sampling import RandomOverSampler\n",
    "\n",
    "from numpy import where\n",
    "import matplotlib.pyplot as plt\n",
    "from sklearn.metrics import f1_score\n",
    "pd.options.mode.chained_assignment = None  # default='warn' "
   ]
  },
  {
   "cell_type": "code",
   "execution_count": 3,
   "metadata": {},
   "outputs": [
    {
     "data": {
      "text/plain": [
       "0     object\n",
       "1    float64\n",
       "2    float64\n",
       "3    float64\n",
       "4    float64\n",
       "5    float64\n",
       "6    float64\n",
       "7    float64\n",
       "8    float64\n",
       "9     object\n",
       "dtype: object"
      ]
     },
     "execution_count": 3,
     "metadata": {},
     "output_type": "execute_result"
    }
   ],
   "source": [
    "#Load the dataset into a pandas dataframe\n",
    "url = 'http://archive.ics.uci.edu/ml/machine-learning-databases/yeast/yeast.data'\n",
    "yeast_data = pd.read_fwf(url,header= None)\n",
    "# dtypes for our columns\n",
    "yeast_data.dtypes"
   ]
  },
  {
   "cell_type": "code",
   "execution_count": 4,
   "metadata": {},
   "outputs": [
    {
     "data": {
      "text/html": [
       "<div>\n",
       "<style scoped>\n",
       "    .dataframe tbody tr th:only-of-type {\n",
       "        vertical-align: middle;\n",
       "    }\n",
       "\n",
       "    .dataframe tbody tr th {\n",
       "        vertical-align: top;\n",
       "    }\n",
       "\n",
       "    .dataframe thead th {\n",
       "        text-align: right;\n",
       "    }\n",
       "</style>\n",
       "<table border=\"1\" class=\"dataframe\">\n",
       "  <thead>\n",
       "    <tr style=\"text-align: right;\">\n",
       "      <th></th>\n",
       "      <th>count</th>\n",
       "      <th>mean</th>\n",
       "      <th>std</th>\n",
       "      <th>min</th>\n",
       "      <th>25%</th>\n",
       "      <th>50%</th>\n",
       "      <th>75%</th>\n",
       "      <th>max</th>\n",
       "    </tr>\n",
       "  </thead>\n",
       "  <tbody>\n",
       "    <tr>\n",
       "      <th>1</th>\n",
       "      <td>1484.0</td>\n",
       "      <td>0.500121</td>\n",
       "      <td>0.137299</td>\n",
       "      <td>0.11</td>\n",
       "      <td>0.41</td>\n",
       "      <td>0.49</td>\n",
       "      <td>0.58</td>\n",
       "      <td>1.00</td>\n",
       "    </tr>\n",
       "    <tr>\n",
       "      <th>2</th>\n",
       "      <td>1484.0</td>\n",
       "      <td>0.499933</td>\n",
       "      <td>0.123924</td>\n",
       "      <td>0.13</td>\n",
       "      <td>0.42</td>\n",
       "      <td>0.49</td>\n",
       "      <td>0.57</td>\n",
       "      <td>1.00</td>\n",
       "    </tr>\n",
       "    <tr>\n",
       "      <th>3</th>\n",
       "      <td>1484.0</td>\n",
       "      <td>0.500034</td>\n",
       "      <td>0.086670</td>\n",
       "      <td>0.21</td>\n",
       "      <td>0.46</td>\n",
       "      <td>0.51</td>\n",
       "      <td>0.55</td>\n",
       "      <td>1.00</td>\n",
       "    </tr>\n",
       "    <tr>\n",
       "      <th>4</th>\n",
       "      <td>1484.0</td>\n",
       "      <td>0.261186</td>\n",
       "      <td>0.137098</td>\n",
       "      <td>0.00</td>\n",
       "      <td>0.17</td>\n",
       "      <td>0.22</td>\n",
       "      <td>0.32</td>\n",
       "      <td>1.00</td>\n",
       "    </tr>\n",
       "    <tr>\n",
       "      <th>5</th>\n",
       "      <td>1484.0</td>\n",
       "      <td>0.504717</td>\n",
       "      <td>0.048351</td>\n",
       "      <td>0.50</td>\n",
       "      <td>0.50</td>\n",
       "      <td>0.50</td>\n",
       "      <td>0.50</td>\n",
       "      <td>1.00</td>\n",
       "    </tr>\n",
       "    <tr>\n",
       "      <th>6</th>\n",
       "      <td>1484.0</td>\n",
       "      <td>0.007500</td>\n",
       "      <td>0.075683</td>\n",
       "      <td>0.00</td>\n",
       "      <td>0.00</td>\n",
       "      <td>0.00</td>\n",
       "      <td>0.00</td>\n",
       "      <td>0.83</td>\n",
       "    </tr>\n",
       "    <tr>\n",
       "      <th>7</th>\n",
       "      <td>1484.0</td>\n",
       "      <td>0.499885</td>\n",
       "      <td>0.057797</td>\n",
       "      <td>0.00</td>\n",
       "      <td>0.48</td>\n",
       "      <td>0.51</td>\n",
       "      <td>0.53</td>\n",
       "      <td>0.73</td>\n",
       "    </tr>\n",
       "    <tr>\n",
       "      <th>8</th>\n",
       "      <td>1484.0</td>\n",
       "      <td>0.276199</td>\n",
       "      <td>0.106491</td>\n",
       "      <td>0.00</td>\n",
       "      <td>0.22</td>\n",
       "      <td>0.22</td>\n",
       "      <td>0.30</td>\n",
       "      <td>1.00</td>\n",
       "    </tr>\n",
       "  </tbody>\n",
       "</table>\n",
       "</div>"
      ],
      "text/plain": [
       "    count      mean       std   min   25%   50%   75%   max\n",
       "1  1484.0  0.500121  0.137299  0.11  0.41  0.49  0.58  1.00\n",
       "2  1484.0  0.499933  0.123924  0.13  0.42  0.49  0.57  1.00\n",
       "3  1484.0  0.500034  0.086670  0.21  0.46  0.51  0.55  1.00\n",
       "4  1484.0  0.261186  0.137098  0.00  0.17  0.22  0.32  1.00\n",
       "5  1484.0  0.504717  0.048351  0.50  0.50  0.50  0.50  1.00\n",
       "6  1484.0  0.007500  0.075683  0.00  0.00  0.00  0.00  0.83\n",
       "7  1484.0  0.499885  0.057797  0.00  0.48  0.51  0.53  0.73\n",
       "8  1484.0  0.276199  0.106491  0.00  0.22  0.22  0.30  1.00"
      ]
     },
     "execution_count": 4,
     "metadata": {},
     "output_type": "execute_result"
    }
   ],
   "source": [
    "# Descriptive statistics of the DataFrame\n",
    "yeast_data.describe().transpose()"
   ]
  },
  {
   "cell_type": "code",
   "execution_count": 5,
   "metadata": {},
   "outputs": [
    {
     "data": {
      "text/html": [
       "<div>\n",
       "<style scoped>\n",
       "    .dataframe tbody tr th:only-of-type {\n",
       "        vertical-align: middle;\n",
       "    }\n",
       "\n",
       "    .dataframe tbody tr th {\n",
       "        vertical-align: top;\n",
       "    }\n",
       "\n",
       "    .dataframe thead th {\n",
       "        text-align: right;\n",
       "    }\n",
       "</style>\n",
       "<table border=\"1\" class=\"dataframe\">\n",
       "  <thead>\n",
       "    <tr style=\"text-align: right;\">\n",
       "      <th></th>\n",
       "      <th>1</th>\n",
       "      <th>2</th>\n",
       "      <th>3</th>\n",
       "      <th>4</th>\n",
       "      <th>5</th>\n",
       "      <th>6</th>\n",
       "      <th>7</th>\n",
       "      <th>8</th>\n",
       "      <th>9</th>\n",
       "    </tr>\n",
       "  </thead>\n",
       "  <tbody>\n",
       "    <tr>\n",
       "      <th>0</th>\n",
       "      <td>0.58</td>\n",
       "      <td>0.61</td>\n",
       "      <td>0.47</td>\n",
       "      <td>0.13</td>\n",
       "      <td>0.5</td>\n",
       "      <td>0.0</td>\n",
       "      <td>0.48</td>\n",
       "      <td>0.22</td>\n",
       "      <td>MIT</td>\n",
       "    </tr>\n",
       "    <tr>\n",
       "      <th>1</th>\n",
       "      <td>0.43</td>\n",
       "      <td>0.67</td>\n",
       "      <td>0.48</td>\n",
       "      <td>0.27</td>\n",
       "      <td>0.5</td>\n",
       "      <td>0.0</td>\n",
       "      <td>0.53</td>\n",
       "      <td>0.22</td>\n",
       "      <td>MIT</td>\n",
       "    </tr>\n",
       "    <tr>\n",
       "      <th>2</th>\n",
       "      <td>0.64</td>\n",
       "      <td>0.62</td>\n",
       "      <td>0.49</td>\n",
       "      <td>0.15</td>\n",
       "      <td>0.5</td>\n",
       "      <td>0.0</td>\n",
       "      <td>0.53</td>\n",
       "      <td>0.22</td>\n",
       "      <td>MIT</td>\n",
       "    </tr>\n",
       "    <tr>\n",
       "      <th>3</th>\n",
       "      <td>0.58</td>\n",
       "      <td>0.44</td>\n",
       "      <td>0.57</td>\n",
       "      <td>0.13</td>\n",
       "      <td>0.5</td>\n",
       "      <td>0.0</td>\n",
       "      <td>0.54</td>\n",
       "      <td>0.22</td>\n",
       "      <td>NUC</td>\n",
       "    </tr>\n",
       "    <tr>\n",
       "      <th>4</th>\n",
       "      <td>0.42</td>\n",
       "      <td>0.44</td>\n",
       "      <td>0.48</td>\n",
       "      <td>0.54</td>\n",
       "      <td>0.5</td>\n",
       "      <td>0.0</td>\n",
       "      <td>0.48</td>\n",
       "      <td>0.22</td>\n",
       "      <td>MIT</td>\n",
       "    </tr>\n",
       "  </tbody>\n",
       "</table>\n",
       "</div>"
      ],
      "text/plain": [
       "      1     2     3     4    5    6     7     8    9\n",
       "0  0.58  0.61  0.47  0.13  0.5  0.0  0.48  0.22  MIT\n",
       "1  0.43  0.67  0.48  0.27  0.5  0.0  0.53  0.22  MIT\n",
       "2  0.64  0.62  0.49  0.15  0.5  0.0  0.53  0.22  MIT\n",
       "3  0.58  0.44  0.57  0.13  0.5  0.0  0.54  0.22  NUC\n",
       "4  0.42  0.44  0.48  0.54  0.5  0.0  0.48  0.22  MIT"
      ]
     },
     "execution_count": 5,
     "metadata": {},
     "output_type": "execute_result"
    }
   ],
   "source": [
    "#we drop the first column as it is not needed for this problem\n",
    "yeast_data = yeast_data.iloc[: , 1:]\n",
    "yeast_data.head()"
   ]
  },
  {
   "cell_type": "code",
   "execution_count": 6,
   "metadata": {},
   "outputs": [
    {
     "data": {
      "text/plain": [
       "CYT    463\n",
       "NUC    429\n",
       "MIT    244\n",
       "ME3    163\n",
       "ME2     51\n",
       "ME1     44\n",
       "EXC     35\n",
       "VAC     30\n",
       "POX     20\n",
       "ERL      5\n",
       "Name: 9, dtype: int64"
      ]
     },
     "execution_count": 6,
     "metadata": {},
     "output_type": "execute_result"
    }
   ],
   "source": [
    "yeast_data[9].value_counts(dropna = False)"
   ]
  },
  {
   "cell_type": "code",
   "execution_count": 7,
   "metadata": {},
   "outputs": [
    {
     "data": {
      "text/html": [
       "<div>\n",
       "<style scoped>\n",
       "    .dataframe tbody tr th:only-of-type {\n",
       "        vertical-align: middle;\n",
       "    }\n",
       "\n",
       "    .dataframe tbody tr th {\n",
       "        vertical-align: top;\n",
       "    }\n",
       "\n",
       "    .dataframe thead th {\n",
       "        text-align: right;\n",
       "    }\n",
       "</style>\n",
       "<table border=\"1\" class=\"dataframe\">\n",
       "  <thead>\n",
       "    <tr style=\"text-align: right;\">\n",
       "      <th></th>\n",
       "      <th>1</th>\n",
       "      <th>2</th>\n",
       "      <th>3</th>\n",
       "      <th>4</th>\n",
       "      <th>5</th>\n",
       "      <th>6</th>\n",
       "      <th>7</th>\n",
       "      <th>8</th>\n",
       "      <th>9</th>\n",
       "    </tr>\n",
       "  </thead>\n",
       "  <tbody>\n",
       "    <tr>\n",
       "      <th>5</th>\n",
       "      <td>0.51</td>\n",
       "      <td>0.40</td>\n",
       "      <td>0.56</td>\n",
       "      <td>0.17</td>\n",
       "      <td>0.5</td>\n",
       "      <td>0.5</td>\n",
       "      <td>0.49</td>\n",
       "      <td>0.22</td>\n",
       "      <td>CYT</td>\n",
       "    </tr>\n",
       "    <tr>\n",
       "      <th>9</th>\n",
       "      <td>0.40</td>\n",
       "      <td>0.39</td>\n",
       "      <td>0.60</td>\n",
       "      <td>0.15</td>\n",
       "      <td>0.5</td>\n",
       "      <td>0.0</td>\n",
       "      <td>0.58</td>\n",
       "      <td>0.30</td>\n",
       "      <td>CYT</td>\n",
       "    </tr>\n",
       "    <tr>\n",
       "      <th>12</th>\n",
       "      <td>0.40</td>\n",
       "      <td>0.42</td>\n",
       "      <td>0.57</td>\n",
       "      <td>0.35</td>\n",
       "      <td>0.5</td>\n",
       "      <td>0.0</td>\n",
       "      <td>0.53</td>\n",
       "      <td>0.25</td>\n",
       "      <td>CYT</td>\n",
       "    </tr>\n",
       "    <tr>\n",
       "      <th>15</th>\n",
       "      <td>0.46</td>\n",
       "      <td>0.44</td>\n",
       "      <td>0.52</td>\n",
       "      <td>0.11</td>\n",
       "      <td>0.5</td>\n",
       "      <td>0.0</td>\n",
       "      <td>0.50</td>\n",
       "      <td>0.22</td>\n",
       "      <td>CYT</td>\n",
       "    </tr>\n",
       "    <tr>\n",
       "      <th>16</th>\n",
       "      <td>0.47</td>\n",
       "      <td>0.39</td>\n",
       "      <td>0.50</td>\n",
       "      <td>0.11</td>\n",
       "      <td>0.5</td>\n",
       "      <td>0.0</td>\n",
       "      <td>0.49</td>\n",
       "      <td>0.40</td>\n",
       "      <td>CYT</td>\n",
       "    </tr>\n",
       "  </tbody>\n",
       "</table>\n",
       "</div>"
      ],
      "text/plain": [
       "       1     2     3     4    5    6     7     8    9\n",
       "5   0.51  0.40  0.56  0.17  0.5  0.5  0.49  0.22  CYT\n",
       "9   0.40  0.39  0.60  0.15  0.5  0.0  0.58  0.30  CYT\n",
       "12  0.40  0.42  0.57  0.35  0.5  0.0  0.53  0.25  CYT\n",
       "15  0.46  0.44  0.52  0.11  0.5  0.0  0.50  0.22  CYT\n",
       "16  0.47  0.39  0.50  0.11  0.5  0.0  0.49  0.40  CYT"
      ]
     },
     "execution_count": 7,
     "metadata": {},
     "output_type": "execute_result"
    }
   ],
   "source": [
    "yeast_data = yeast_data.loc[(yeast_data[9] == \"CYT\") | (yeast_data[9] == \"VAC\")]\n",
    "yeast_data.head()"
   ]
  },
  {
   "cell_type": "code",
   "execution_count": 8,
   "metadata": {},
   "outputs": [
    {
     "data": {
      "text/plain": [
       "1     0\n",
       "2    26\n",
       "3     5\n",
       "4     0\n",
       "5     0\n",
       "6     0\n",
       "7     0\n",
       "8     0\n",
       "9     0\n",
       "dtype: int64"
      ]
     },
     "execution_count": 8,
     "metadata": {},
     "output_type": "execute_result"
    }
   ],
   "source": [
    "yeast_data[2].replace({0.3:np.NaN, 0.5:np.NaN, 0.7:np.NaN}, inplace=True)\n",
    "yeast_data[3].replace({0.26:np.NaN, 0.36:np.NaN, 0.64:np.NaN}, inplace=True)\n",
    "#count the NaNs per column\n",
    "yeast_data.isna().sum()\n"
   ]
  },
  {
   "cell_type": "markdown",
   "metadata": {},
   "source": [
    "We decided to classify VAC=1 and CYT=0. This way, we will get F-1 score for pos_label=1, i.e for VAC which is going to be a hard task to optimise, since we do not have many occurences of VAC in our dataset. So, the F-1 scores are going to be low"
   ]
  },
  {
   "cell_type": "code",
   "execution_count": 9,
   "metadata": {},
   "outputs": [],
   "source": [
    "# all columns but the last\n",
    "X = yeast_data.iloc[: , :-1]\n",
    "# the last column of the df \n",
    "y = yeast_data.iloc[:,-1:]\n",
    "y.replace({(\"CYT\"): 0}, inplace=True)\n",
    "y.replace({(\"VAC\"): 1}, inplace=True)\n",
    "from sklearn.model_selection import train_test_split\n",
    "X_train, X_test, y_train, y_test = train_test_split(X, y, random_state=0,test_size=0.3)"
   ]
  },
  {
   "cell_type": "code",
   "execution_count": 10,
   "metadata": {},
   "outputs": [],
   "source": [
    "from sklearn.impute import SimpleImputer\n",
    "# Simple imputation with mean\n",
    "imp = SimpleImputer(missing_values=np.nan, strategy='mean')\n",
    "imp.fit(X_train)\n",
    "X_train_imp = imp.transform(X_train)\n",
    "X_test_imp = imp.transform(X_test)\n",
    "\n",
    "#some manipulation of y to skip errors\n",
    "y_train_array = y_train.to_numpy().ravel()\n",
    "y_test_array = y_test.to_numpy().ravel()\n"
   ]
  },
  {
   "cell_type": "code",
   "execution_count": 27,
   "metadata": {},
   "outputs": [
    {
     "name": "stdout",
     "output_type": "stream",
     "text": [
      "Model training took 1.22 seconds\n",
      "Best cross-validation score: 0.38\n",
      "Test set score: 0.25\n",
      "Best parameters: {'classifier': SVC(C=1000, gamma=1), 'classifier__C': 1000, 'classifier__gamma': 1}\n",
      "\n"
     ]
    }
   ],
   "source": [
    "#Benchmark model with no outlier detection method\n",
    "pipe = Pipeline([('classifier', SVC())])\n",
    "\n",
    "param_grid = [\n",
    "     {'classifier': [SGDClassifier()],\n",
    "      'classifier__average': [True, False],\n",
    "      'classifier__l1_ratio': [0.001, 0.01, 0.1, 1],\n",
    "      'classifier__alpha': [0.001, 0.01, 0.1, 1]},\n",
    "    \n",
    "     {'classifier': [SVC()],\n",
    "      'classifier__gamma':[0.001, 0.01, 0.1, 1],\n",
    "      'classifier__C': [100,1000,1250,1500]},\n",
    "    \n",
    "     {'classifier': [LogisticRegression()], \n",
    "      'classifier__C': [0.001, 0.01, 0.1, 1]}]\n",
    "\n",
    "grid_search = GridSearchCV(pipe, param_grid, cv = StratifiedKFold(), scoring='f1')\n",
    "start = time()\n",
    "grid_search.fit(X_train_imp, y_train_array)\n",
    "   \n",
    "print(\"Model training took %.2f seconds\"\n",
    "    % ((time() - start)))\n",
    "print(\"Best cross-validation score: {:.2f}\".format(grid_search.best_score_))\n",
    "print(\"Test set score: {:.2f}\".format(grid_search.score(X_test_imp, y_test_array)))\n",
    "print(\"Best parameters: {}\\n\".format(grid_search.best_params_))\n"
   ]
  },
  {
   "cell_type": "code",
   "execution_count": 12,
   "metadata": {},
   "outputs": [
    {
     "name": "stdout",
     "output_type": "stream",
     "text": [
      "DBSCAN(eps=0.1, min_samples=20)\n",
      "Total occurences of \"0\" in y:  135\n",
      "Total occurences of \"1\" in y:  10\n",
      "Model training took 0.89 seconds\n",
      "Best cross-validation score: 0.00\n",
      "Test set score: 0.00\n",
      "Best parameters: {'classifier': SGDClassifier(alpha=0.001, average=True, l1_ratio=0.001), 'classifier__alpha': 0.001, 'classifier__average': True, 'classifier__l1_ratio': 0.001}\n",
      "\n",
      "IsolationForest(contamination=0.05)\n",
      "Total occurences of \"0\" in y:  306\n",
      "Total occurences of \"1\" in y:  22\n",
      "Model training took 1.42 seconds\n",
      "Best cross-validation score: 0.31\n",
      "Test set score: 0.25\n",
      "Best parameters: {'classifier': SVC(C=1000, gamma=1), 'classifier__C': 1000, 'classifier__gamma': 1}\n",
      "\n",
      "LocalOutlierFactor(contamination=0.5)\n",
      "Total occurences of \"0\" in y:  165\n",
      "Total occurences of \"1\" in y:  8\n",
      "Model training took 1.39 seconds\n",
      "Best cross-validation score: 0.00\n",
      "Test set score: 0.00\n",
      "Best parameters: {'classifier': SGDClassifier(alpha=0.001, average=True, l1_ratio=0.001), 'classifier__alpha': 0.001, 'classifier__average': True, 'classifier__l1_ratio': 0.001}\n",
      "\n",
      "EllipticEnvelope(contamination=0.05)\n",
      "Total occurences of \"0\" in y:  304\n",
      "Total occurences of \"1\" in y:  24\n",
      "Model training took 1.59 seconds\n",
      "Best cross-validation score: 0.40\n",
      "Test set score: 0.22\n",
      "Best parameters: {'classifier': SVC(C=1000, gamma=1), 'classifier__C': 1000, 'classifier__gamma': 1}\n",
      "\n",
      "OneClassSVM(gamma=1, nu=0.03)\n",
      "Total occurences of \"0\" in y:  310\n",
      "Total occurences of \"1\" in y:  23\n",
      "Model training took 1.44 seconds\n",
      "Best cross-validation score: 0.28\n",
      "Test set score: 0.25\n",
      "Best parameters: {'classifier': SVC(C=1000, gamma=1), 'classifier__C': 1000, 'classifier__gamma': 1}\n",
      "\n"
     ]
    }
   ],
   "source": [
    "from sklearn.neighbors import LocalOutlierFactor\n",
    "from sklearn.covariance import EllipticEnvelope\n",
    "from sklearn.svm import OneClassSVM\n",
    "from sklearn.mixture import GaussianMixture\n",
    "methods = [DBSCAN(eps = 0.10, min_samples = 20), \n",
    "           IsolationForest(n_estimators=100, contamination=.05), \n",
    "           LocalOutlierFactor(n_neighbors=20, contamination=.50), \n",
    "           EllipticEnvelope(contamination=.05), \n",
    "           OneClassSVM(kernel=\"rbf\", gamma=1, nu=0.03)]\n",
    "for outliers in methods:\n",
    "    # Build an outlier detection model to classify VAC from CYT\n",
    "     \n",
    "    pred = outliers.fit_predict(X_train_imp)\n",
    "    # the negatives are the outliers.\n",
    "    exists = 0 in pred\n",
    "    if exists == True:\n",
    "        filter_ = 0 \n",
    "    else:\n",
    "        filter_ = 1\n",
    "    anom_index = where(pred == filter_)\n",
    "    X_train_out = X_train_imp[anom_index]\n",
    "    y_train_out= y_train_array[anom_index]\n",
    "    count_arr = np.bincount(y_train_out)\n",
    "    print(outliers)\n",
    "    # Count occurrence of element '3' in numpy array\n",
    "    print('Total occurences of \"0\" in y: ', count_arr[0])\n",
    "    # Count occurrence of element '5' in numpy array\n",
    "    print('Total occurences of \"1\" in y: ', count_arr[1])\n",
    "    grid_search = GridSearchCV(pipe, param_grid, cv = StratifiedKFold(), scoring='f1')\n",
    "\n",
    "    start = time()\n",
    "    grid_search.fit(X_train_out, y_train_out)\n",
    "    \n",
    "    print(\"Model training took %.2f seconds\"\n",
    "        % ((time() - start)))\n",
    "    print(\"Best cross-validation score: {:.2f}\".format(grid_search.best_score_))\n",
    "    print(\"Test set score: {:.2f}\".format(grid_search.score(X_test_imp, y_test_array)))\n",
    "    print(\"Best parameters: {}\\n\".format(grid_search.best_params_))"
   ]
  },
  {
   "cell_type": "code",
   "execution_count": 13,
   "metadata": {},
   "outputs": [
    {
     "name": "stdout",
     "output_type": "stream",
     "text": [
      "F-1 Test Score: 0.250\n"
     ]
    }
   ],
   "source": [
    "outliers= OneClassSVM(gamma=1, nu=0.03)\n",
    "pred = outliers.fit_predict(X_train_imp)\n",
    "anom_index = where(pred == 1)\n",
    "X_train_out = X_train_imp[anom_index]\n",
    "y_train_out= y_train_array[anom_index]\n",
    "# optimal model\n",
    "model = SVC(C=1000, gamma=1)\n",
    "# train model\n",
    "model.fit(X_train_out, y_train_out)\n",
    "# test score\n",
    "y_predicted = model.predict(X_test_imp)\n",
    "score = f1_score(y_test, y_predicted)\n",
    "print(\"F-1 Test Score: {0:.3f}\".format(score))"
   ]
  },
  {
   "cell_type": "code",
   "execution_count": 28,
   "metadata": {},
   "outputs": [
    {
     "name": "stdout",
     "output_type": "stream",
     "text": [
      "Total occurences of \"0\" in y_predicted:  146\n",
      "Total occurences of \"1\" in y_predicted:  2\n",
      "Total occurences of \"0\" in y_test:  142\n",
      "Total occurences of \"1\" in y_test:  6\n"
     ]
    }
   ],
   "source": [
    "count_arr = np.bincount(y_predicted)\n",
    "\n",
    "# Count occurrence of element '3' in numpy array\n",
    "print('Total occurences of \"0\" in y_predicted: ', count_arr[0])\n",
    "# Count occurrence of element '5' in numpy array\n",
    "print('Total occurences of \"1\" in y_predicted: ', count_arr[1])\n",
    "\n",
    "count_arr = np.bincount(y_test_array)\n",
    "\n",
    "# Count occurrence of element '3' in numpy array\n",
    "print('Total occurences of \"0\" in y_test: ', count_arr[0])\n",
    "# Count occurrence of element '5' in numpy array\n",
    "print('Total occurences of \"1\" in y_test: ', count_arr[1])"
   ]
  },
  {
   "cell_type": "code",
   "execution_count": 26,
   "metadata": {},
   "outputs": [
    {
     "data": {
      "text/html": [
       "<div>\n",
       "<style scoped>\n",
       "    .dataframe tbody tr th:only-of-type {\n",
       "        vertical-align: middle;\n",
       "    }\n",
       "\n",
       "    .dataframe tbody tr th {\n",
       "        vertical-align: top;\n",
       "    }\n",
       "\n",
       "    .dataframe thead th {\n",
       "        text-align: right;\n",
       "    }\n",
       "</style>\n",
       "<table border=\"1\" class=\"dataframe\">\n",
       "  <thead>\n",
       "    <tr style=\"text-align: right;\">\n",
       "      <th></th>\n",
       "      <th>9</th>\n",
       "    </tr>\n",
       "  </thead>\n",
       "  <tbody>\n",
       "    <tr>\n",
       "      <th>994</th>\n",
       "      <td>0</td>\n",
       "    </tr>\n",
       "    <tr>\n",
       "      <th>1483</th>\n",
       "      <td>0</td>\n",
       "    </tr>\n",
       "    <tr>\n",
       "      <th>764</th>\n",
       "      <td>0</td>\n",
       "    </tr>\n",
       "    <tr>\n",
       "      <th>1333</th>\n",
       "      <td>0</td>\n",
       "    </tr>\n",
       "    <tr>\n",
       "      <th>1032</th>\n",
       "      <td>0</td>\n",
       "    </tr>\n",
       "    <tr>\n",
       "      <th>...</th>\n",
       "      <td>...</td>\n",
       "    </tr>\n",
       "    <tr>\n",
       "      <th>1019</th>\n",
       "      <td>0</td>\n",
       "    </tr>\n",
       "    <tr>\n",
       "      <th>931</th>\n",
       "      <td>0</td>\n",
       "    </tr>\n",
       "    <tr>\n",
       "      <th>858</th>\n",
       "      <td>0</td>\n",
       "    </tr>\n",
       "    <tr>\n",
       "      <th>20</th>\n",
       "      <td>0</td>\n",
       "    </tr>\n",
       "    <tr>\n",
       "      <th>387</th>\n",
       "      <td>0</td>\n",
       "    </tr>\n",
       "  </tbody>\n",
       "</table>\n",
       "<p>148 rows × 1 columns</p>\n",
       "</div>"
      ],
      "text/plain": [
       "      9\n",
       "994   0\n",
       "1483  0\n",
       "764   0\n",
       "1333  0\n",
       "1032  0\n",
       "...  ..\n",
       "1019  0\n",
       "931   0\n",
       "858   0\n",
       "20    0\n",
       "387   0\n",
       "\n",
       "[148 rows x 1 columns]"
      ]
     },
     "execution_count": 26,
     "metadata": {},
     "output_type": "execute_result"
    }
   ],
   "source": [
    "color = ['blue','orange']\n",
    "\n",
    "target_count = y_train.value_counts()\n",
    "print('Class 0:', target_count[0])\n",
    "print('Class 1:', target_count[1])\n",
    "print('Proportion:', round(target_count[0] / target_count[1], 2), ': 1')"
   ]
  },
  {
   "cell_type": "code",
   "execution_count": 16,
   "metadata": {},
   "outputs": [
    {
     "data": {
      "image/png": "[encoded data removed]",
      "text/plain": [
       "<Figure size 432x288 with 1 Axes>"
      ]
     },
     "metadata": {
      "needs_background": "light"
     },
     "output_type": "display_data"
    }
   ],
   "source": [
    "color = ['blue','orange']\n",
    "\n",
    "target_count = y_train.value_counts()\n",
    "target_count.plot(kind='bar', title='Count (target)', color = color);"
   ]
  },
  {
   "cell_type": "code",
   "execution_count": 17,
   "metadata": {},
   "outputs": [
    {
     "name": "stdout",
     "output_type": "stream",
     "text": [
      "297 new random picked points\n"
     ]
    }
   ],
   "source": [
    "ros = RandomOverSampler()\n",
    "X_ros, y_ros = ros.fit_resample(X_train_imp, y_train)\n",
    "\n",
    "print(X_ros.shape[0] - X_train_imp.shape[0], 'new random picked points')\n"
   ]
  },
  {
   "cell_type": "code",
   "execution_count": 18,
   "metadata": {},
   "outputs": [
    {
     "name": "stdout",
     "output_type": "stream",
     "text": [
      "Random over-sampling:\n",
      "9  \n",
      "0.0    321\n",
      "1.0    321\n",
      "dtype: int64\n"
     ]
    },
    {
     "data": {
      "image/png": "[encoded data removed]",
      "text/plain": [
       "<Figure size 432x288 with 1 Axes>"
      ]
     },
     "metadata": {
      "needs_background": "light"
     },
     "output_type": "display_data"
    }
   ],
   "source": [
    "# Class count\n",
    "count_class_0, count_class_1 = y_ros.value_counts()\n",
    "\n",
    "# Divide by class\n",
    "df_class_0 = y_ros[y_ros == 0]\n",
    "df_class_1 = y_ros[y_ros == 1]\n",
    "\n",
    "df_test_over = pd.concat([df_class_0, df_class_1], axis=0)\n",
    "\n",
    "print('Random over-sampling:')\n",
    "print(df_test_over.value_counts())\n",
    "\n",
    "df_test_over.value_counts().plot(kind='bar', title='Count (target)',color = color);\n"
   ]
  },
  {
   "cell_type": "code",
   "execution_count": 19,
   "metadata": {},
   "outputs": [
    {
     "name": "stdout",
     "output_type": "stream",
     "text": [
      "Model training took 2.92 seconds\n",
      "Best cross-validation score: 0.79\n",
      "Test set score: 0.14\n",
      "Best parameters: {'classifier': SVC(C=1250, gamma=1), 'classifier__C': 1250, 'classifier__gamma': 1}\n",
      "\n"
     ]
    }
   ],
   "source": [
    "# Convert to numpy\n",
    "y_ros_array = y_ros.to_numpy().ravel()\n",
    "\n",
    "start = time()\n",
    "grid_search.fit(X_ros, y_ros_array)\n",
    "   \n",
    "print(\"Model training took %.2f seconds\"\n",
    "    % ((time() - start)))\n",
    "print(\"Best cross-validation score: {:.2f}\".format(grid_search.best_score_))\n",
    "print(\"Test set score: {:.2f}\".format(grid_search.score(X_test_imp, y_test)))\n",
    "print(\"Best parameters: {}\\n\".format(grid_search.best_params_))"
   ]
  },
  {
   "cell_type": "code",
   "execution_count": 20,
   "metadata": {},
   "outputs": [
    {
     "name": "stdout",
     "output_type": "stream",
     "text": [
      "Random over-sampling:\n",
      "9  \n",
      "0.0    321\n",
      "1.0    321\n",
      "dtype: int64\n"
     ]
    }
   ],
   "source": [
    "from imblearn.over_sampling import SMOTE\n",
    "\n",
    "smote = SMOTE(sampling_strategy='minority')\n",
    "X_sm, y_sm = smote.fit_resample(X_train_imp, y_train)\n",
    "# Convert to numpy\n",
    "y_sm_array = y_ros.to_numpy().ravel() \n",
    "# Divide by class\n",
    "df_class_0 = y_sm[y_sm == 0]\n",
    "df_class_1 = y_sm[y_sm == 1]\n",
    "\n",
    "df_test_over = pd.concat([df_class_0, df_class_1], axis=0)\n",
    "\n",
    "print('Random over-sampling:')\n",
    "print(df_test_over.value_counts())"
   ]
  },
  {
   "cell_type": "code",
   "execution_count": 21,
   "metadata": {},
   "outputs": [
    {
     "name": "stdout",
     "output_type": "stream",
     "text": [
      "Model training took 2.73 seconds\n",
      "Best cross-validation score: 0.84\n",
      "Test set score: 0.09\n",
      "Best parameters: {'classifier': SVC(C=1500, gamma=1), 'classifier__C': 1500, 'classifier__gamma': 1}\n",
      "\n"
     ]
    }
   ],
   "source": [
    "start = time()\n",
    "grid_search.fit(X_sm, y_sm_array)\n",
    "   \n",
    "print(\"Model training took %.2f seconds\"\n",
    "    % ((time() - start)))\n",
    "print(\"Best cross-validation score: {:.2f}\".format(grid_search.best_score_))\n",
    "print(\"Test set score: {:.2f}\".format(grid_search.score(X_test_imp, y_test)))\n",
    "print(\"Best parameters: {}\\n\".format(grid_search.best_params_))"
   ]
  },
  {
   "cell_type": "code",
   "execution_count": 22,
   "metadata": {},
   "outputs": [
    {
     "name": "stdout",
     "output_type": "stream",
     "text": [
      "Model training took 3.25 seconds\n",
      "Best cross-validation score: 0.82\n",
      "Test set score: 0.09\n",
      "Best parameters: {'classifier': SVC(C=1500, gamma=1), 'classifier__C': 1500, 'classifier__gamma': 1}\n",
      "\n"
     ]
    }
   ],
   "source": [
    "from imblearn.combine import SMOTETomek\n",
    "\n",
    "smt = SMOTETomek(sampling_strategy='auto')\n",
    "X_smt, y_smt = smt.fit_resample(X_train_imp, y_train)\n",
    "# Convert to numpy array\n",
    "y_smt_array = y_smt.to_numpy().ravel() \n",
    "\n",
    "start = time()\n",
    "grid_search.fit(X_smt, y_smt_array)\n",
    "   \n",
    "print(\"Model training took %.2f seconds\"\n",
    "    % ((time() - start)))\n",
    "print(\"Best cross-validation score: {:.2f}\".format(grid_search.best_score_))\n",
    "print(\"Test set score: {:.2f}\".format(grid_search.score(X_test_imp, y_test)))\n",
    "print(\"Best parameters: {}\\n\".format(grid_search.best_params_))"
   ]
  },
  {
   "cell_type": "code",
   "execution_count": 23,
   "metadata": {},
   "outputs": [
    {
     "name": "stdout",
     "output_type": "stream",
     "text": [
      "On branch main\n",
      "Your branch is up to date with 'origin/main'.\n",
      "\n",
      "Untracked files:\n",
      "  (use \"git add <file>...\" to include in what will be committed)\n",
      "\t.ipynb_checkpoints/\n",
      "\n",
      "nothing added to commit but untracked files present (use \"git add\" to track)\n"
     ]
    }
   ],
   "source": [
    "! git commit -am \"coding finished\" \n",
    " \n"
   ]
  },
  {
   "cell_type": "code",
   "execution_count": 24,
   "metadata": {},
   "outputs": [
    {
     "name": "stderr",
     "output_type": "stream",
     "text": [
      "Everything up-to-date\n"
     ]
    }
   ],
   "source": [
    "! git push"
   ]
  }
 ],
 "metadata": {
  "kernelspec": {
   "display_name": "Python 3 (ipykernel)",
   "language": "python",
   "name": "python3"
  },
  "language_info": {
   "codemirror_mode": {
    "name": "ipython",
    "version": 3
   },
   "file_extension": ".py",
   "mimetype": "text/x-python",
   "name": "python",
   "nbconvert_exporter": "python",
   "pygments_lexer": "ipython3",
   "version": "3.9.6"
  }
 },
 "nbformat": 4,
 "nbformat_minor": 4
}
